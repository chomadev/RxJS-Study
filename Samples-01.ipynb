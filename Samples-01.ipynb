{
 "cells": [
  {
   "cell_type": "markdown",
   "metadata": {},
   "source": [
    "# Using jupyter notebook with JavaScript\n",
    "first install jupyter extension, in vs code. It will ask you to install Python, but you can skip it\n",
    "\n",
    "then install ijavascript globally:\n",
    "\n",
    "`npm install -g ijavascript`\n",
    "\n",
    "rebuild `zeromq`\n",
    "\n",
    "`cd /usr/local/lib/node_modules/ijavascript/node_modules/zeromq`\n",
    "\n",
    "`npm run build:libzmq`\n",
    "\n",
    "run\n",
    "\n",
    "`ijsinstall --spec-path=full`\n"
   ]
  },
  {
   "cell_type": "markdown",
   "metadata": {},
   "source": []
  },
  {
   "cell_type": "code",
   "execution_count": 1,
   "metadata": {},
   "outputs": [],
   "source": [
    "const { Observable } = require('rxjs');\n",
    "let observable;"
   ]
  },
  {
   "cell_type": "code",
   "execution_count": 2,
   "metadata": {},
   "outputs": [
    {
     "name": "stdout",
     "output_type": "stream",
     "text": [
      "just before subscribe\n",
      "got value 1\n",
      "got value 2\n",
      "got value 3\n",
      "just after subscribe\n",
      "got value 4\n",
      "done\n"
     ]
    }
   ],
   "source": [
    "observable = new Observable(subscriber => {\n",
    "  subscriber.next(1);\n",
    "  subscriber.next(2);\n",
    "  subscriber.next(3);\n",
    "  setTimeout(() => {\n",
    "    subscriber.next(4);\n",
    "    subscriber.complete();\n",
    "  }, 1000);\n",
    "});\n",
    "\n",
    "console.log('just before subscribe');\n",
    "observable.subscribe({\n",
    "  next(x) { console.log('got value ' + x); },\n",
    "  error(err) { console.error('something wrong occurred: ' + err); },\n",
    "  complete() { console.log('done'); }\n",
    "});\n",
    "console.log('just after subscribe');"
   ]
  }
 ],
 "metadata": {
  "interpreter": {
   "hash": "31f2aee4e71d21fbe5cf8b01ff0e069b9275f58929596ceb00d14d90e3e16cd6"
  },
  "kernelspec": {
   "display_name": "JavaScript (Node.js)",
   "language": "javascript",
   "name": "javascript"
  },
  "language_info": {
   "file_extension": ".js",
   "mimetype": "application/javascript",
   "name": "javascript",
   "version": "14.15.1"
  },
  "orig_nbformat": 4
 },
 "nbformat": 4,
 "nbformat_minor": 2
}
